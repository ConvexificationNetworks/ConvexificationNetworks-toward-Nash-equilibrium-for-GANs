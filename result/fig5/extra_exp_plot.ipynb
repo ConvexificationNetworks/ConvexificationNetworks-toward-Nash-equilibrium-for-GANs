{
 "cells": [
  {
   "cell_type": "code",
   "execution_count": 1,
   "metadata": {},
   "outputs": [],
   "source": [
    "import numpy as np\n",
    "import itertools as itr\n",
    "import pandas as pd\n",
    "import matplotlib\n",
    "import matplotlib.pyplot as plt\n",
    "import statsmodels.formula.api as sm\n",
    "\n",
    "def comp(row):\n",
    "    if row[\"result1\"] > row[\"result2\"]:\n",
    "        return 1\n",
    "    else:\n",
    "        return 0\n",
    "    \n",
    "def dif(row):\n",
    "    return row[\"result1\"] - row[\"result2\"]"
   ]
  },
  {
   "cell_type": "markdown",
   "metadata": {},
   "source": [
    "# preparation"
   ]
  },
  {
   "cell_type": "code",
   "execution_count": 2,
   "metadata": {},
   "outputs": [],
   "source": [
    "with open(\"net1_extra.txt\", \"r\") as f:\n",
    "    l1 = f.readlines()\n",
    "    \n",
    "result1 = np.ones(81)\n",
    "for i, t in enumerate(l1[:10]):\n",
    "    result1[i] = t[4:12]\n",
    "    \n",
    "for i, t in enumerate(l1[10:81]):\n",
    "    result1[i+10] = t[4:13]"
   ]
  },
  {
   "cell_type": "code",
   "execution_count": 3,
   "metadata": {},
   "outputs": [],
   "source": [
    "with open(\"net2_extra.txt\", \"r\") as f:\n",
    "    l2 = f.readlines()\n",
    "\n",
    "result2 = np.ones(81)\n",
    "for i, t in enumerate(l2[:10]):\n",
    "    result2[i] = t[4:12]\n",
    "    \n",
    "for i, t in enumerate(l2[10:81]):\n",
    "    result2[i+10] = t[4:13]"
   ]
  },
  {
   "cell_type": "markdown",
   "metadata": {},
   "source": [
    "# results"
   ]
  },
  {
   "cell_type": "code",
   "execution_count": 4,
   "metadata": {},
   "outputs": [],
   "source": [
    "# make dataframe\n",
    "df = np.ones((81, 6))\n",
    "netsize=[32, 48, 64]\n",
    "beta1=[0.0, 0.5, 0.9]\n",
    "alpha=[0.005, 0.01, 0.05]\n",
    "weight_decay = [0.0, 0.0001, 0.0005]\n",
    "\n",
    "combinations = itr.product(netsize, beta1, alpha, weight_decay)\n",
    "for i, t in enumerate(combinations):\n",
    "    df[i, :4] = t\n",
    "    df[i, 4] = result1[i]\n",
    "    df[i, 5] = result2[i]\n",
    "    \n",
    "df = pd.DataFrame(df, columns=[\"netsize\", \"beta1\", \"alpha\", \"weight_decay\", \"result1\", \"result2\"])\n",
    "df[\"proposal_win\"] = df.apply(comp, axis = 1)\n",
    "df[\"emd_dif\"] = df.apply(dif, axis = 1)"
   ]
  },
  {
   "cell_type": "code",
   "execution_count": 5,
   "metadata": {},
   "outputs": [
    {
     "name": "stderr",
     "output_type": "stream",
     "text": [
      "/Users/keiikegami/anaconda3/lib/python3.6/site-packages/ipykernel_launcher.py:3: FutureWarning: Series.data is deprecated and will be removed in a future version\n",
      "  This is separate from the ipykernel package so we can avoid doing imports until\n"
     ]
    },
    {
     "data": {
      "image/png": "[encoded data removed]",
      "text/plain": [
       "<Figure size 432x288 with 1 Axes>"
      ]
     },
     "metadata": {
      "needs_background": "light"
     },
     "output_type": "display_data"
    }
   ],
   "source": [
    "# fig5\n",
    "df[\"dif_mean\"] = df.groupby(\"alpha\")[\"emd_dif\"].transform(\"mean\")\n",
    "means = np.unique(df[\"dif_mean\"].data)\n",
    "fig = plt.figure(figsize=(6, 4))\n",
    "al = [\"0.005\", \"0.01\", \"0.05\"]\n",
    "plt.bar(al, means, width=0.5)\n",
    "plt.yticks([0.000, 0.001, 0.002, 0.003])\n",
    "plt.tick_params(direction='out',\n",
    "                pad=20,\n",
    "                labelsize=25\n",
    "                )\n",
    "plt.xlabel(\"learning rate\", fontsize=25)\n",
    "plt.ylabel(r\"$W_{o} - W_{cn}$\", fontsize=25)\n",
    "plt.grid(axis='y', linestyle='--', linewidth=2)\n",
    "plt.savefig(\"barplot.png\", bbox_inches=\"tight\", dpi=300)\n",
    "plt.show()"
   ]
  },
  {
   "cell_type": "code",
   "execution_count": 6,
   "metadata": {},
   "outputs": [],
   "source": [
    "# regression result\n",
    "result = sm.ols(formula=\"emd_dif ~ netsize + beta1 + alpha + weight_decay -1\", data=df).fit()"
   ]
  },
  {
   "cell_type": "code",
   "execution_count": 7,
   "metadata": {},
   "outputs": [
    {
     "name": "stdout",
     "output_type": "stream",
     "text": [
      "                            OLS Regression Results                            \n",
      "==============================================================================\n",
      "Dep. Variable:                emd_dif   R-squared:                       0.146\n",
      "Model:                            OLS   Adj. R-squared:                  0.102\n",
      "Method:                 Least Squares   F-statistic:                     3.292\n",
      "Date:                Thu, 23 May 2019   Prob (F-statistic):             0.0152\n",
      "Time:                        12:22:17   Log-Likelihood:                 302.48\n",
      "No. Observations:                  81   AIC:                            -597.0\n",
      "Df Residuals:                      77   BIC:                            -587.4\n",
      "Df Model:                           4                                         \n",
      "Covariance Type:            nonrobust                                         \n",
      "================================================================================\n",
      "                   coef    std err          t      P>|t|      [0.025      0.975]\n",
      "--------------------------------------------------------------------------------\n",
      "netsize      -4.047e-05   2.55e-05     -1.589      0.116   -9.12e-05    1.02e-05\n",
      "beta1            0.0013      0.002      0.775      0.440      -0.002       0.005\n",
      "alpha            0.0786      0.032      2.485      0.015       0.016       0.142\n",
      "weight_decay     4.6148      2.977      1.550      0.125      -1.312      10.542\n",
      "==============================================================================\n",
      "Omnibus:                       29.005   Durbin-Watson:                   1.955\n",
      "Prob(Omnibus):                  0.000   Jarque-Bera (JB):              163.939\n",
      "Skew:                           0.795   Prob(JB):                     2.52e-36\n",
      "Kurtosis:                       9.786   Cond. No.                     2.25e+05\n",
      "==============================================================================\n",
      "\n",
      "Warnings:\n",
      "[1] Standard Errors assume that the covariance matrix of the errors is correctly specified.\n",
      "[2] The condition number is large, 2.25e+05. This might indicate that there are\n",
      "strong multicollinearity or other numerical problems.\n"
     ]
    }
   ],
   "source": [
    "print(result.summary())"
   ]
  },
  {
   "cell_type": "code",
   "execution_count": null,
   "metadata": {},
   "outputs": [],
   "source": []
  }
 ],
 "metadata": {
  "kernelspec": {
   "display_name": "Python 3",
   "language": "python",
   "name": "python3"
  },
  "language_info": {
   "codemirror_mode": {
    "name": "ipython",
    "version": 3
   },
   "file_extension": ".py",
   "mimetype": "text/x-python",
   "name": "python",
   "nbconvert_exporter": "python",
   "pygments_lexer": "ipython3",
   "version": "3.6.8"
  }
 },
 "nbformat": 4,
 "nbformat_minor": 2
}
